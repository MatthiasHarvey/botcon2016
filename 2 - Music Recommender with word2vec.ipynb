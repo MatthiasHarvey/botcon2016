{
 "cells": [
  {
   "cell_type": "markdown",
   "metadata": {},
   "source": [
    "# Let's train a Music Recommender by training a Word2Vec with a Wikipedia Rock Music Corpus\n",
    "\n",
    "*What is word2vec? Well, it's a training algorithm to create a model that provides word embeddings - it is very similar to GLOVE which Raymond presented before me*\n",
    "\n",
    "So the idea here is to exploit word2vecs ability to understand the context of a word and create a music recommender by training a Word2Vec on the Rock genre of wikipedia. We want to find out which bands are most \"semantically\" similar to others.\n",
    "We're going to use a tool called Gensim which is THE tool for creating word2vec embeddings\n",
    "\n",
    "Things we need:\n",
    "- A dictionary of bands so that we can correctly tokenize multiword bands\n",
    "- A set of files scraped off wikipedia. The entire rock genre has been scraped\n",
    "- A set of stopwords to be removed from our wikipedia snippets since they add no value. This would be words like \"a\" and \"the\""
   ]
  },
  {
   "cell_type": "markdown",
   "metadata": {
    "collapsed": true
   },
   "source": [
    "Let's have a peek at the dictionary"
   ]
  },
  {
   "cell_type": "markdown",
   "metadata": {
    "collapsed": true
   },
   "source": [
    "And check out one of wikipedia scrapes"
   ]
  },
  {
   "cell_type": "code",
   "execution_count": null,
   "metadata": {
    "collapsed": true
   },
   "outputs": [],
   "source": [
    "3. And the stop word list"
   ]
  },
  {
   "cell_type": "markdown",
   "metadata": {
    "collapsed": true
   },
   "source": [
    "## Now here is the training...\n"
   ]
  },
  {
   "cell_type": "code",
   "execution_count": 33,
   "metadata": {
    "collapsed": false
   },
   "outputs": [],
   "source": [
    "import wiki_rock_train\n",
    "\n",
    "wiki_rock_train.train_and_save('data/wiki_rock_multiword_dic.txt', \n",
    "                               'data/stop-words-english1.txt',\n",
    "                               'data/wiki_rock_corpus/*.txt')"
   ]
  },
  {
   "cell_type": "markdown",
   "metadata": {},
   "source": [
    "- the multiword dictionary is used to enable entire band names and artist names to be treated as single words\n",
    "- the stop words are words the should be removed from the corpus\n",
    "- and the wiki_rock_corpus is a folder FILLED with scrapped data \n",
    "\n",
    "Okay okay, yes there is more too it than that... Let me go onto the code to show you the details..."
   ]
  },
  {
   "cell_type": "markdown",
   "metadata": {},
   "source": [
    "## Time to play..."
   ]
  },
  {
   "cell_type": "markdown",
   "metadata": {},
   "source": [
    "### Let's check how large our w2v model is."
   ]
  },
  {
   "cell_type": "code",
   "execution_count": 14,
   "metadata": {
    "collapsed": false
   },
   "outputs": [
    {
     "name": "stdout",
     "output_type": "stream",
     "text": [
      "18830915\n"
     ]
    }
   ],
   "source": [
    "import os\n",
    "print os.path.getsize('data/rock_music.w2v')"
   ]
  },
  {
   "cell_type": "markdown",
   "metadata": {},
   "source": [
    "### Loading up our newly trained corpus..."
   ]
  },
  {
   "cell_type": "code",
   "execution_count": 1,
   "metadata": {
    "collapsed": false
   },
   "outputs": [
    {
     "name": "stderr",
     "output_type": "stream",
     "text": [
      "Using gpu device 0: GeForce 840M (CNMeM is enabled with initial size: 75.0% of memory, cuDNN 5005)\n"
     ]
    },
    {
     "name": "stdout",
     "output_type": "stream",
     "text": [
      "Done loading...\n"
     ]
    }
   ],
   "source": [
    "import gensim\n",
    "\n",
    "word_sim = gensim.models.Word2Vec.load('data/rock_music.w2v')\n",
    "print 'Done loading...'"
   ]
  },
  {
   "cell_type": "markdown",
   "metadata": {},
   "source": [
    "### Let's create and have a good look at one of these word vectors"
   ]
  },
  {
   "cell_type": "code",
   "execution_count": 16,
   "metadata": {
    "collapsed": false
   },
   "outputs": [
    {
     "name": "stdout",
     "output_type": "stream",
     "text": [
      "Size of word embedding...\n",
      "100\n"
     ]
    },
    {
     "data": {
      "image/png": "[encoded data removed]",
      "text/plain": [
       "<matplotlib.figure.Figure at 0x7e81db38>"
      ]
     },
     "metadata": {},
     "output_type": "display_data"
    }
   ],
   "source": [
    "%matplotlib inline\n",
    "\n",
    "import matplotlib\n",
    "import numpy as np\n",
    "import matplotlib.pyplot as plt\n",
    "\n",
    "print \"Size of word embedding...\"\n",
    "print len(word_sim['David Bowie'])\n",
    "\n",
    "band = 'David Bowie'\n",
    "vector = word_sim[band]\n",
    "x = range(0,len(vector))\n",
    "plt.plot(x, vector)\n",
    "plt.title(band)\n",
    "plt.show()\n"
   ]
  },
  {
   "cell_type": "markdown",
   "metadata": {},
   "source": [
    "### We can use gensim to calculate a very simplistic cosine similarity"
   ]
  },
  {
   "cell_type": "code",
   "execution_count": 5,
   "metadata": {
    "collapsed": false
   },
   "outputs": [
    {
     "name": "stdout",
     "output_type": "stream",
     "text": [
      "Similar to Joy Division..\n",
      "\n",
      "[(u'New Order', 0.764636754989624),\n",
      " (u'Siouxsie and the Banshees', 0.7643281817436218),\n",
      " (u'My Bloody Valentine', 0.7486330270767212),\n",
      " (u'Gang of Four', 0.7396107912063599),\n",
      " (u'Ian Curtis', 0.7237499356269836),\n",
      " (u'The Velvet Underground', 0.7119016647338867),\n",
      " (u'The Clash', 0.7081732153892517),\n",
      " (u'The Cure', 0.7044165134429932),\n",
      " (u'Pink Floyd', 0.6904392242431641),\n",
      " (u'The Smiths', 0.6889955997467041)]\n",
      "\n",
      "Similar to Lady Gaga...\n",
      "\n",
      "[(u'Katy Perry', 0.8736884593963623),\n",
      " (u'Beyonc\\xe9', 0.8673701286315918),\n",
      " (u'Alicia Keys', 0.8475775718688965),\n",
      " (u'Christina Aguilera', 0.8451395034790039),\n",
      " (u'John Legend', 0.835701584815979),\n",
      " (u'Leona Lewis', 0.8337379097938538),\n",
      " (u'Justin Bieber', 0.8268237113952637),\n",
      " (u'Jennifer Lopez', 0.8213231563568115),\n",
      " (u'Rihanna', 0.8186976909637451),\n",
      " (u'Mariah Carey', 0.816741943359375)]\n",
      "\n",
      "Similar to Queen...\n",
      "\n",
      "[(u'Freddie Mercury', 0.6558103561401367),\n",
      " (u'Birthday', 0.6491392850875854),\n",
      " (u'Bohemian Rhapsody', 0.6126962304115295),\n",
      " (u'Tie Your Mother Down', 0.6066335439682007),\n",
      " (u'Nelson Mandela', 0.6041974425315857),\n",
      " (u'Sting', 0.6012824177742004),\n",
      " (u'Elton John', 0.5913758277893066),\n",
      " (u'Roger Daltrey', 0.5781259536743164),\n",
      " (u'Leonard Cohen', 0.5717478394508362),\n",
      " (u'We Will Rock You', 0.5626952648162842)]\n"
     ]
    }
   ],
   "source": [
    "import pprint \n",
    "\n",
    "# Using cosine distance\n",
    "print \"Similar to Joy Division..\\n\"\n",
    "pprint.pprint(word_sim.most_similar(positive=['Joy Division'], topn=10))\n",
    "\n",
    "print \"\\nSimilar to Lady Gaga...\\n\"\n",
    "pprint.pprint(word_sim.most_similar(positive=['Lady Gaga'], topn=10))\n",
    "\n",
    "print \"\\nSimilar to Queen...\\n\"\n",
    "pprint.pprint(word_sim.most_similar(positive=['Queen'], topn=10))"
   ]
  },
  {
   "cell_type": "code",
   "execution_count": 6,
   "metadata": {
    "collapsed": false
   },
   "outputs": [
    {
     "name": "stdout",
     "output_type": "stream",
     "text": [
      "[(u'alcohol', 0.8787972927093506),\n",
      " (u'heroin', 0.8585001230239868),\n",
      " (u'cocaine', 0.8298882246017456),\n",
      " (u'drugs', 0.8194409608840942),\n",
      " (u'addiction', 0.8181716203689575),\n",
      " (u'prescription', 0.8039490580558777),\n",
      " (u'narcotics', 0.7964029908180237),\n",
      " (u'substance', 0.7952165007591248),\n",
      " (u'addictions', 0.7886688709259033),\n",
      " (u'alcoholism', 0.7865278124809265)]\n"
     ]
    }
   ],
   "source": [
    "pprint.pprint(word_sim.most_similar(positive=['drug'], topn=10))\n"
   ]
  },
  {
   "cell_type": "code",
   "execution_count": 7,
   "metadata": {
    "collapsed": false
   },
   "outputs": [
    {
     "name": "stdout",
     "output_type": "stream",
     "text": [
      "[(u'NY', 0.7279260158538818),\n",
      " (u'Los Angeles', 0.6773889064788818),\n",
      " (u'NYC', 0.6757597923278809),\n",
      " (u'Gerde', 0.6612169742584229),\n",
      " (u'Manhattan', 0.6515415906906128),\n",
      " (u'The Bay', 0.6393393874168396),\n",
      " (u'Arkham', 0.6365764141082764),\n",
      " (u'San Francisco', 0.6317269802093506),\n",
      " (u'Boyne', 0.6308050155639648),\n",
      " (u'Para\\xf1aque', 0.6225646734237671)]\n",
      "[(u'Manchester', 0.8001685738563538),\n",
      " (u'Liverpool', 0.7709138989448547),\n",
      " (u'Glasgow', 0.7367475032806396),\n",
      " (u'England', 0.7253307104110718),\n",
      " (u'Dublin', 0.7002424001693726),\n",
      " (u'Sheffield', 0.6764413714408875),\n",
      " (u'Brighton', 0.672342836856842),\n",
      " (u'Bristol', 0.655327558517456),\n",
      " (u'Birmingham', 0.6515960693359375),\n",
      " (u'Edinburgh', 0.6412298679351807)]\n"
     ]
    }
   ],
   "source": [
    "pprint.pprint(word_sim.most_similar(positive=['New York'], topn=10))\n",
    "pprint.pprint(word_sim.most_similar(positive=['London'], topn=10))"
   ]
  }
 ],
 "metadata": {
  "kernelspec": {
   "display_name": "Python 2",
   "language": "python",
   "name": "python2"
  },
  "language_info": {
   "codemirror_mode": {
    "name": "ipython",
    "version": 2
   },
   "file_extension": ".py",
   "mimetype": "text/x-python",
   "name": "python",
   "nbconvert_exporter": "python",
   "pygments_lexer": "ipython2",
   "version": "2.7.11"
  }
 },
 "nbformat": 4,
 "nbformat_minor": 0
}
